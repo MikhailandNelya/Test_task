{
 "cells": [
  {
   "cell_type": "code",
   "execution_count": 15,
   "metadata": {},
   "outputs": [],
   "source": [
    "import pandas as pd\n",
    "import random\n",
    "import seaborn as sns\n",
    "import matplotlib.pyplot as plt"
   ]
  },
  {
   "cell_type": "markdown",
   "metadata": {},
   "source": [
    "#**Создадим список из случайных элементов**\n",
    "#**Меняя seed можно получить разные выборки** "
   ]
  },
  {
   "cell_type": "code",
   "execution_count": 16,
   "metadata": {},
   "outputs": [],
   "source": [
    "randomlist = []\n",
    "random.seed(10)\n",
    "for i in range(0,30):\n",
    "    n = random.randint(1,40)\n",
    "    randomlist.append(n)"
   ]
  },
  {
   "cell_type": "code",
   "execution_count": 17,
   "metadata": {},
   "outputs": [
    {
     "data": {
      "image/png": "[encoded data removed]",
      "text/plain": [
       "<Figure size 720x504 with 1 Axes>"
      ]
     },
     "metadata": {
      "needs_background": "light"
     },
     "output_type": "display_data"
    }
   ],
   "source": [
    "plt.figure(figsize=(10,7))\n",
    "ax=sns.barplot(x=[i for i,v in enumerate(randomlist)], y=randomlist)"
   ]
  },
  {
   "cell_type": "markdown",
   "metadata": {},
   "source": [
    "#**Функция Variant1. Вход: список значений.**\n",
    "#**Выход: Максимумы, между которыми будет вода.** \n",
    "#**- находим все максимумы слева направо до максимального значения;**\n",
    "#**- находим все максимумы справа налево до максимального значения;**\n",
    "#**- формируем список из максимумов, удаляем дубли,сортируем.**\n"
   ]
  },
  {
   "cell_type": "code",
   "execution_count": 18,
   "metadata": {},
   "outputs": [],
   "source": [
    "def Variant1(data):\n",
    "    a_max=data[0]\n",
    "    a=[]\n",
    "    if a_max>randomlist[1]:\n",
    "        a.append(0) \n",
    "    for i in range(1, len(randomlist)):\n",
    "        if data[i]>=a_max:\n",
    "            a.append(i)\n",
    "            a_max=data[i]\n",
    "    b_max=data[-1]\n",
    "    b=[]\n",
    "    if b_max>randomlist[-2]:\n",
    "        b.append(len(randomlist)-1)\n",
    "        print(len(randomlist)-1)\n",
    "    for i in reversed(range(0,len(randomlist)-1)):\n",
    "        if data[i]>=b_max:\n",
    "            b.append(i)\n",
    "            b_max=data[i]\n",
    "\n",
    "    a.extend(b)\n",
    "    a=list(set(a))\n",
    "    a.sort()\n",
    "    return a"
   ]
  },
  {
   "cell_type": "markdown",
   "metadata": {},
   "source": [
    "#**Расчет максимумов, между которыми будет вода**\n"
   ]
  },
  {
   "cell_type": "code",
   "execution_count": 19,
   "metadata": {},
   "outputs": [
    {
     "name": "stdout",
     "output_type": "stream",
     "text": [
      "29\n"
     ]
    }
   ],
   "source": [
    "a=Variant1(randomlist)"
   ]
  },
  {
   "cell_type": "code",
   "execution_count": 20,
   "metadata": {},
   "outputs": [
    {
     "data": {
      "text/plain": [
       "[0, 4, 21, 27, 29]"
      ]
     },
     "execution_count": 20,
     "metadata": {},
     "output_type": "execute_result"
    }
   ],
   "source": [
    "a"
   ]
  },
  {
   "cell_type": "markdown",
   "metadata": {},
   "source": [
    "#**Найдем площадь между каждыми максимумами и просуммируем их**"
   ]
  },
  {
   "cell_type": "code",
   "execution_count": 21,
   "metadata": {},
   "outputs": [],
   "source": [
    "summ=[]"
   ]
  },
  {
   "cell_type": "code",
   "execution_count": 22,
   "metadata": {},
   "outputs": [],
   "source": [
    "for i in range(1,len(a)):\n",
    "    a_max=max(randomlist[a[i-1]],randomlist[a[i]])\n",
    "#    new=randomlist[a[i-1]+1:a[i]]\n",
    "    new=[a_max-x for x in randomlist[a[i-1]+1:a[i]]]\n",
    "    summ.append(sum(new))"
   ]
  },
  {
   "cell_type": "code",
   "execution_count": 23,
   "metadata": {},
   "outputs": [],
   "source": [
    "summ_total=sum(summ)"
   ]
  },
  {
   "cell_type": "markdown",
   "metadata": {},
   "source": [
    "#**Общая площадь, которую займет вода с учетом того, что ширина каждого столбика равна единице** "
   ]
  },
  {
   "cell_type": "code",
   "execution_count": 24,
   "metadata": {},
   "outputs": [
    {
     "data": {
      "text/plain": [
       "495"
      ]
     },
     "execution_count": 24,
     "metadata": {},
     "output_type": "execute_result"
    }
   ],
   "source": [
    "summ_total"
   ]
  },
  {
   "cell_type": "markdown",
   "metadata": {},
   "source": [
    "#**Для визуализации результатов создадим список по количеству элементов равным исходному**\n",
    "#**В том столбике, где вода, зададим его значение равное высоте воды в данном интервале между максимумами**"
   ]
  },
  {
   "cell_type": "code",
   "execution_count": 25,
   "metadata": {},
   "outputs": [],
   "source": [
    "s_total=[0]*len(randomlist)"
   ]
  },
  {
   "cell_type": "code",
   "execution_count": 26,
   "metadata": {},
   "outputs": [],
   "source": [
    "for i in range(1,len(a)):\n",
    "    a_min = min(randomlist[a[i-1]],randomlist[a[i]])\n",
    "    for j in range(a[i-1],a[i]):\n",
    "#        print(j, a_min)\n",
    "        s_total[j]=a_min\n"
   ]
  },
  {
   "cell_type": "code",
   "execution_count": 27,
   "metadata": {},
   "outputs": [
    {
     "data": {
      "image/png": "[encoded data removed]",
      "text/plain": [
       "<Figure size 720x504 with 1 Axes>"
      ]
     },
     "metadata": {
      "needs_background": "light"
     },
     "output_type": "display_data"
    }
   ],
   "source": [
    "plt.figure(figsize=(10,7))\n",
    "ax=sns.barplot(x=[i for i,v in enumerate(s_total)], y=s_total, color ='grey', alpha=0.3)\n",
    "ax2=sns.barplot(x=[i for i,v in enumerate(randomlist)], y=randomlist)"
   ]
  },
  {
   "cell_type": "code",
   "execution_count": null,
   "metadata": {},
   "outputs": [],
   "source": []
  }
 ],
 "metadata": {
  "kernelspec": {
   "display_name": "Python 3",
   "language": "python",
   "name": "python3"
  },
  "language_info": {
   "codemirror_mode": {
    "name": "ipython",
    "version": 3
   },
   "file_extension": ".py",
   "mimetype": "text/x-python",
   "name": "python",
   "nbconvert_exporter": "python",
   "pygments_lexer": "ipython3",
   "version": "3.7.4"
  }
 },
 "nbformat": 4,
 "nbformat_minor": 5
}
